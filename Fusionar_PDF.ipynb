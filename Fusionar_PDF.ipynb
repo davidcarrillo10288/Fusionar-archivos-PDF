{
 "cells": [
  {
   "cell_type": "code",
   "execution_count": 10,
   "id": "6e9e7f18",
   "metadata": {},
   "outputs": [],
   "source": [
    "#!pip install PyPDF2"
   ]
  },
  {
   "cell_type": "code",
   "execution_count": 1,
   "id": "aed4d67e",
   "metadata": {},
   "outputs": [],
   "source": [
    "import PyPDF2 as pdf_2"
   ]
  },
  {
   "cell_type": "code",
   "execution_count": 2,
   "id": "4753caf1",
   "metadata": {},
   "outputs": [
    {
     "name": "stdout",
     "output_type": "stream",
     "text": [
      "Ingrese el numero de PDFs a fusionar: 3\n",
      "['C:/Users/david/Documents/IA/Cheet sheet - IA/Python Tutorial.pdf', 'C:/Users/david/Documents/IA/Cheet sheet - IA/python sheet total.pdf', 'C:/Users/david/Documents/IA/Cheet sheet - IA/Python ultimate guide.pdf']\n"
     ]
    }
   ],
   "source": [
    "%matplotlib inline\n",
    "import tkinter as tk\n",
    "from tkinter import filedialog\n",
    "\n",
    "numero = int(input('Ingrese el numero de PDFs a fusionar: '))\n",
    "lista = []\n",
    "\n",
    "# Creamos una ventana raíz para la aplicación tkinter\n",
    "root = tk.Tk()\n",
    "\n",
    "# Con esto ocultamos la ventana raíz\n",
    "root.withdraw()\n",
    "\n",
    "for i in range(numero):\n",
    "    # Abrimos un cuadro de diálogo a fin de seleccionar los PDFs\n",
    "    pdf = filedialog.askopenfilename()\n",
    "    lista.append(pdf)\n",
    "\n",
    "print(lista)"
   ]
  },
  {
   "cell_type": "code",
   "execution_count": 3,
   "id": "a25732a4",
   "metadata": {},
   "outputs": [
    {
     "name": "stdout",
     "output_type": "stream",
     "text": [
      "Escribe el nombre para el archivo: python_guides\n"
     ]
    }
   ],
   "source": [
    "fusionador = pdf_2.PdfMerger()\n",
    " \n",
    "for pdf in lista:\n",
    "    fusionador.append(pdf)\n",
    "\n",
    "nombre = input('Escribe el nombre para el archivo: ')\n",
    "fusionador.write(f\"{nombre}.pdf\")\n",
    "fusionador.close()"
   ]
  },
  {
   "cell_type": "code",
   "execution_count": null,
   "id": "f249d7e3",
   "metadata": {},
   "outputs": [],
   "source": []
  },
  {
   "cell_type": "markdown",
   "id": "556fd9d5",
   "metadata": {},
   "source": [
    "***--------------------------------------------------------------------------------------------------------------------------------------------------------------------------------------***"
   ]
  },
  {
   "cell_type": "code",
   "execution_count": null,
   "id": "a76b6fbc",
   "metadata": {},
   "outputs": [],
   "source": []
  },
  {
   "cell_type": "code",
   "execution_count": 2,
   "id": "473a7345",
   "metadata": {},
   "outputs": [
    {
     "name": "stdout",
     "output_type": "stream",
     "text": [
      "Proceso de subida de archivos terminado.\n"
     ]
    }
   ],
   "source": [
    "### Otro método - Practicando adicionar estilos a los botones\n",
    "import tkinter as tk\n",
    "from tkinter import filedialog\n",
    "from tkinter import ttk\n",
    "\n",
    "\n",
    "def abrir_cuadro_busqueda():\n",
    "    file_path = filedialog.askopenfilename()\n",
    "    if file_path:\n",
    "        respuesta = tk.messagebox.askquestion(\"Adicionar otro archivo\", \"¿Desea adicionar otro archivo?\")\n",
    "        if respuesta == 'yes':\n",
    "            abrir_cuadro_busqueda()\n",
    "        else:\n",
    "            print(\"Proceso de subida de archivos terminado.\")\n",
    "\n",
    "# Crear la ventana principal\n",
    "ventana = tk.Tk()\n",
    "\n",
    "# Botón para abrir el cuadro de búsqueda\n",
    "#boton_abrir = tk.Button(ventana, text=\"Abrir Cuadro de Búsqueda\", command=abrir_cuadro_busqueda)\n",
    "estilo = ttk.Style()\n",
    "estilo.configure(\"Boton.TButton\", font=('Helvetica', 12), padding=10)\n",
    "#estilo.configure(\"Boton.TButton\", font=('Helvetica', 12), padding=10, foreground=\"white\", background=\"#007BFF\")\n",
    "#estilo.configure(\"Boton.TButton\", font=('Helvetica', 12), padding=10, foreground=\"white\", background=\"#007BFF\", borderwidth=2, relief=\"solid\")\n",
    "boton_abrir = ttk.Button(ventana, text=\"Abrir Cuadro de Búsqueda\", style=\"Boton.TButton\", command=abrir_cuadro_busqueda)\n",
    "boton_abrir.pack()\n",
    "\n",
    "\n",
    "# Iniciar el bucle principal\n",
    "ventana.mainloop()"
   ]
  }
 ],
 "metadata": {
  "kernelspec": {
   "display_name": "Python 3 (ipykernel)",
   "language": "python",
   "name": "python3"
  },
  "language_info": {
   "codemirror_mode": {
    "name": "ipython",
    "version": 3
   },
   "file_extension": ".py",
   "mimetype": "text/x-python",
   "name": "python",
   "nbconvert_exporter": "python",
   "pygments_lexer": "ipython3",
   "version": "3.9.13"
  }
 },
 "nbformat": 4,
 "nbformat_minor": 5
}
